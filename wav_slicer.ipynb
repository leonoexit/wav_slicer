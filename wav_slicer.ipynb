{
 "cells": [
  {
   "cell_type": "code",
   "execution_count": 1,
   "id": "1d096dea-9bc3-43e5-a56e-7f64deadca7f",
   "metadata": {},
   "outputs": [
    {
     "name": "stdout",
     "output_type": "stream",
     "text": [
      "Processed Korean Pop Piano_Vpod_2709_UH_07.wav into Korean Pop Piano_Vpod_2709_UH_07_(a).wav and Korean Pop Piano_Vpod_2709_UH_07_(b).wav\n",
      "Processed Korean Pop Piano_Vpod_2709_UH_10.wav into Korean Pop Piano_Vpod_2709_UH_10_(a).wav and Korean Pop Piano_Vpod_2709_UH_10_(b).wav\n",
      "Processed Korean Pop Piano_Vpod_2509_UH_01.wav into Korean Pop Piano_Vpod_2509_UH_01_(a).wav and Korean Pop Piano_Vpod_2509_UH_01_(b).wav\n",
      "Processed Korean Pop Piano_Vpod_2709_UH_08.wav into Korean Pop Piano_Vpod_2709_UH_08_(a).wav and Korean Pop Piano_Vpod_2709_UH_08_(b).wav\n",
      "Processed Korean Pop Piano_Vpod_2709_UH_09.wav into Korean Pop Piano_Vpod_2709_UH_09_(a).wav and Korean Pop Piano_Vpod_2709_UH_09_(b).wav\n",
      "Processed Korean Pop Piano_Vpod_2509_UH_02.wav into Korean Pop Piano_Vpod_2509_UH_02_(a).wav and Korean Pop Piano_Vpod_2509_UH_02_(b).wav\n",
      "Processed Korean Pop Piano_Vpod_2509_UH_03.wav into Korean Pop Piano_Vpod_2509_UH_03_(a).wav and Korean Pop Piano_Vpod_2509_UH_03_(b).wav\n",
      "Processed Korean Pop Piano_Vpod_2509_UH_04.wav into Korean Pop Piano_Vpod_2509_UH_04_(a).wav and Korean Pop Piano_Vpod_2509_UH_04_(b).wav\n",
      "Processed Korean Pop Piano_Vpod_2609_UH_05.wav into Korean Pop Piano_Vpod_2609_UH_05_(a).wav and Korean Pop Piano_Vpod_2609_UH_05_(b).wav\n",
      "Processed Korean Pop Piano_Vpod_2609_UH_06.wav into Korean Pop Piano_Vpod_2609_UH_06_(a).wav and Korean Pop Piano_Vpod_2609_UH_06_(b).wav\n",
      "\n",
      "Tổng số tác vụ đã thực hiện: 20\n"
     ]
    }
   ],
   "source": [
    "import os\n",
    "import numpy as np\n",
    "import soundfile as sf\n",
    "\n",
    "def apply_fade(audio, fade_length):\n",
    "    fade_in = np.linspace(0, 1, fade_length)\n",
    "    fade_out = np.linspace(1, 0, fade_length)\n",
    "    \n",
    "    # Kiểm tra xem audio là mono hay stereo\n",
    "    if audio.ndim == 1:\n",
    "        # Mono\n",
    "        audio[:fade_length] *= fade_in\n",
    "        audio[-fade_length:] *= fade_out\n",
    "    else:\n",
    "        # Stereo\n",
    "        audio[:fade_length, :] *= fade_in[:, np.newaxis]\n",
    "        audio[-fade_length:, :] *= fade_out[:, np.newaxis]\n",
    "    \n",
    "    return audio\n",
    "\n",
    "def split_and_fade_wav(input_folder, output_folder):\n",
    "    if not os.path.exists(output_folder):\n",
    "        os.makedirs(output_folder)\n",
    "\n",
    "    task_count = 0\n",
    "\n",
    "    for filename in os.listdir(input_folder):\n",
    "        if filename.endswith(\".wav\"):\n",
    "            input_path = os.path.join(input_folder, filename)\n",
    "            \n",
    "            # Đọc file WAV với tất cả thông số gốc\n",
    "            with sf.SoundFile(input_path) as sound_file:\n",
    "                audio = sound_file.read()\n",
    "                sample_rate = sound_file.samplerate\n",
    "                subtype = sound_file.subtype\n",
    "            \n",
    "            half_length = len(audio) // 2\n",
    "            first_half = audio[:half_length]\n",
    "            second_half = audio[half_length:]\n",
    "            \n",
    "            fade_length = int(0.15 * sample_rate)  # 0.15 giây\n",
    "            \n",
    "            # Áp dụng fade\n",
    "            first_half = apply_fade(first_half, fade_length)\n",
    "            second_half = apply_fade(second_half, fade_length)\n",
    "            \n",
    "            name_without_ext = os.path.splitext(filename)[0]\n",
    "            output_name_a = f\"{name_without_ext}_(a).wav\"\n",
    "            output_name_b = f\"{name_without_ext}_(b).wav\"\n",
    "            \n",
    "            output_path_a = os.path.join(output_folder, output_name_a)\n",
    "            output_path_b = os.path.join(output_folder, output_name_b)\n",
    "            \n",
    "            # Ghi file với cùng tốc độ lấy mẫu và subtype như file gốc\n",
    "            sf.write(output_path_a, first_half, sample_rate, subtype=subtype)\n",
    "            sf.write(output_path_b, second_half, sample_rate, subtype=subtype)\n",
    "            \n",
    "            print(f\"Processed {filename} into {output_name_a} and {output_name_b}\")\n",
    "            task_count += 2\n",
    "\n",
    "    print(f\"\\nTổng số tác vụ đã thực hiện: {task_count}\")\n",
    "\n",
    "# Sử dụng hàm\n",
    "input_folder = \"/Users/nguyenle/Desktop/File Sliced Jazz\"\n",
    "output_folder = \"/Users/nguyenle/Desktop/File Sliced Jazz/Output\"\n",
    "\n",
    "split_and_fade_wav(input_folder, output_folder)"
   ]
  },
  {
   "cell_type": "code",
   "execution_count": null,
   "id": "7f11773c-38d6-4736-8c67-d3223b4aa47b",
   "metadata": {},
   "outputs": [],
   "source": []
  }
 ],
 "metadata": {
  "kernelspec": {
   "display_name": "Python 3 (ipykernel)",
   "language": "python",
   "name": "python3"
  },
  "language_info": {
   "codemirror_mode": {
    "name": "ipython",
    "version": 3
   },
   "file_extension": ".py",
   "mimetype": "text/x-python",
   "name": "python",
   "nbconvert_exporter": "python",
   "pygments_lexer": "ipython3",
   "version": "3.11.9"
  }
 },
 "nbformat": 4,
 "nbformat_minor": 5
}
